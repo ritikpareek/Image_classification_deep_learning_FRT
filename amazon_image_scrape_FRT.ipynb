{
 "cells": [
  {
   "cell_type": "code",
   "execution_count": 1,
   "metadata": {},
   "outputs": [],
   "source": [
    "# importing the libraries\n",
    "import selenium\n",
    "from selenium import webdriver\n",
    "from selenium.common.exceptions import NoSuchElementException,StaleElementReferenceException,ElementNotVisibleException,ElementNotInteractableException\n",
    "import pandas as pd\n",
    "import numpy as np\n",
    "import time\n",
    "from selenium.webdriver.support.ui import WebDriverWait\n",
    "from selenium.webdriver.support import expected_conditions as EC\n",
    "from selenium.webdriver.common.by import By\n",
    "import os\n",
    "import urllib"
   ]
  },
  {
   "cell_type": "code",
   "execution_count": 2,
   "metadata": {},
   "outputs": [],
   "source": [
    "driver1=webdriver.Chrome('chromedriver.exe')"
   ]
  },
  {
   "cell_type": "code",
   "execution_count": 3,
   "metadata": {},
   "outputs": [],
   "source": [
    "#url for sarees\n",
    "urls=['https://www.amazon.in/s?k=sarees+for+women&qid=1619948786&ref=sr_pg_1','https://www.amazon.in/s?k=sarees+for+women&page=2&qid=1619951046&ref=sr_pg_2','https://www.amazon.in/s?k=sarees+for+women&page=2&qid=1619951046&ref=sr_pg_3','https://www.amazon.in/s?k=sarees+for+women&page=2&qid=1619951046&ref=sr_pg_4','https://www.amazon.in/s?k=sarees+for+women&page=2&qid=1619951046&ref=sr_pg_5','https://www.amazon.in/s?k=sarees+for+women&page=6&qid=1620127387&ref=sr_pg_6']"
   ]
  },
  {
   "cell_type": "code",
   "execution_count": 4,
   "metadata": {},
   "outputs": [],
   "source": [
    "#scraping the saari photos\n",
    "for j in urls:\n",
    "    driver1.get(j)\n",
    "    k=j.split('=')[-1]\n",
    "    for i in range(2,50):\n",
    "            try:\n",
    "                driver1.find_element_by_xpath('//*[@id=\"search\"]/div[1]/div/div[1]/div/span[3]/div[2]/div['+str(i)+']/div/span/div/div/div[2]/div/span/a/div/img').screenshot('e:/sarees/'+str(k)+'_pic'+str(i)+'.png')\n",
    "            except:\n",
    "                pass\n",
    "\n",
    "            "
   ]
  },
  {
   "cell_type": "code",
   "execution_count": 5,
   "metadata": {},
   "outputs": [],
   "source": [
    "#url for trousers\n",
    "urls=['https://www.amazon.in/s?k=trousers+for+men&qid=1620127651&ref=sr_pg_1','https://www.amazon.in/s?k=trousers+for+men&page=2&qid=1620127674&ref=sr_pg_2','https://www.amazon.in/s?k=trousers+for+men&page=3&qid=1620127785&ref=sr_pg_3','https://www.amazon.in/s?k=trousers+for+men&page=4&qid=1620127793&ref=sr_pg_4','https://www.amazon.in/s?k=trousers+for+men&page=5&qid=1620127803&ref=sr_pg_5','https://www.amazon.in/s?k=trousers+for+men&page=6&qid=1620127832&ref=sr_pg_6']"
   ]
  },
  {
   "cell_type": "code",
   "execution_count": 6,
   "metadata": {},
   "outputs": [],
   "source": [
    "#scraping the trouser photos\n",
    "for j in urls:\n",
    "    driver1.get(j)\n",
    "    k=j.split('=')[-1]\n",
    "    for i in range(2,50):\n",
    "            try:\n",
    "                driver1.find_element_by_xpath('//*[@id=\"search\"]/div[1]/div/div[1]/div/span[3]/div[2]/div['+str(i)+']/div/span/div/div/div[2]/div/span/a/div/img').screenshot('e:/trousers/'+str(k)+'_pic_trouser'+str(i)+'.png')\n",
    "            except:\n",
    "                pass"
   ]
  },
  {
   "cell_type": "code",
   "execution_count": 7,
   "metadata": {},
   "outputs": [],
   "source": [
    "#url for jeans\n",
    "urls=['https://www.amazon.in/s?k=jeans+for+men&qid=1620129639&ref=sr_pg_1','https://www.amazon.in/s?k=jeans+for+men&page=2&qid=1620129649&ref=sr_pg_2','https://www.amazon.in/s?k=jeans+for+men&page=3&qid=1620129669&ref=sr_pg_3','https://www.amazon.in/s?k=jeans+for+men&page=4&qid=1620129686&ref=sr_pg_4','https://www.amazon.in/s?k=jeans+for+men&page=5&qid=1620129703&ref=sr_pg_5','https://www.amazon.in/s?k=jeans+for+men&page=6&qid=1620129718&ref=sr_pg_6']"
   ]
  },
  {
   "cell_type": "code",
   "execution_count": 8,
   "metadata": {},
   "outputs": [],
   "source": [
    "#scraping the jeans photos\n",
    "for j in urls:\n",
    "    driver1.get(j)\n",
    "    k=j.split('=')[-1]\n",
    "    for i in range(2,50):\n",
    "            try:\n",
    "                driver1.find_element_by_xpath('//*[@id=\"search\"]/div[1]/div/div[1]/div/span[3]/div[2]/div['+str(i)+']/div/span/div/div/div[2]/div/span/a/div/img').screenshot('e:/jeans/'+str(k)+'_pic_jeans'+str(i)+'.png')\n",
    "            except:\n",
    "                pass"
   ]
  },
  {
   "cell_type": "code",
   "execution_count": 9,
   "metadata": {},
   "outputs": [],
   "source": [
    "driver1.close()"
   ]
  },
  {
   "cell_type": "code",
   "execution_count": null,
   "metadata": {},
   "outputs": [],
   "source": []
  }
 ],
 "metadata": {
  "kernelspec": {
   "display_name": "Python 3",
   "language": "python",
   "name": "python3"
  },
  "language_info": {
   "codemirror_mode": {
    "name": "ipython",
    "version": 3
   },
   "file_extension": ".py",
   "mimetype": "text/x-python",
   "name": "python",
   "nbconvert_exporter": "python",
   "pygments_lexer": "ipython3",
   "version": "3.8.8"
  }
 },
 "nbformat": 4,
 "nbformat_minor": 4
}
